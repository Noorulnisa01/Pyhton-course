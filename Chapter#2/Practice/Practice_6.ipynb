{
 "cells": [
  {
   "cell_type": "markdown",
   "metadata": {},
   "source": [
    "# ***Practice 6:***\n",
    "## *Write a python program to calculate the square of a number given by user.*\n"
   ]
  },
  {
   "cell_type": "markdown",
   "metadata": {},
   "source": [
    "# ***Solution:***"
   ]
  },
  {
   "cell_type": "code",
   "execution_count": 5,
   "metadata": {},
   "outputs": [
    {
     "name": "stdout",
     "output_type": "stream",
     "text": [
      " Square of a number is:  16\n",
      " Squere of a number is:  16\n"
     ]
    }
   ],
   "source": [
    "a = int(input(\"Enter 1st number: \"))\n",
    "\n",
    "# ** is used for power/exponent in python.\n",
    "# ^ is also used for power/exponent but not in python.\n",
    "# But in python, ^ is used for XOR operation.\n",
    "\n",
    "\n",
    "print(\" Square of a number is: \", a**2)\n",
    "print(\" Squere of a number is: \", a*a)"
   ]
  },
  {
   "cell_type": "markdown",
   "metadata": {},
   "source": [
    "# ***Cube of a number***"
   ]
  },
  {
   "cell_type": "code",
   "execution_count": 3,
   "metadata": {},
   "outputs": [
    {
     "name": "stdout",
     "output_type": "stream",
     "text": [
      " Cube of a number is:  216\n"
     ]
    }
   ],
   "source": [
    "a = 6\n",
    "\n",
    "print(\" Cube of a number is: \", a**3)"
   ]
  }
 ],
 "metadata": {
  "kernelspec": {
   "display_name": "Python 3",
   "language": "python",
   "name": "python3"
  },
  "language_info": {
   "codemirror_mode": {
    "name": "ipython",
    "version": 3
   },
   "file_extension": ".py",
   "mimetype": "text/x-python",
   "name": "python",
   "nbconvert_exporter": "python",
   "pygments_lexer": "ipython3",
   "version": "3.11.6"
  }
 },
 "nbformat": 4,
 "nbformat_minor": 2
}
